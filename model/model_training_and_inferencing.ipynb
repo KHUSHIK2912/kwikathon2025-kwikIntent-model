{
 "cells": [
  {
   "cell_type": "markdown",
   "id": "7730e62b-c920-4e2e-bba6-e9284b7ead96",
   "metadata": {},
   "source": [
    "# Configs"
   ]
  },
  {
   "cell_type": "code",
   "execution_count": 1,
   "id": "63db145a-d850-4ede-a1e6-00a3909f65cf",
   "metadata": {
    "execution": {
     "iopub.execute_input": "2025-04-25T12:43:47.684382Z",
     "iopub.status.busy": "2025-04-25T12:43:47.683976Z",
     "iopub.status.idle": "2025-04-25T12:43:47.687476Z",
     "shell.execute_reply": "2025-04-25T12:43:47.686846Z",
     "shell.execute_reply.started": "2025-04-25T12:43:47.684358Z"
    }
   },
   "outputs": [],
   "source": [
    "# pip install --upgrade pandas\n"
   ]
  },
  {
   "cell_type": "code",
   "execution_count": 1,
   "id": "d2a1ea43-584c-4d4c-b79f-4b6c70b96b99",
   "metadata": {
    "execution": {
     "iopub.execute_input": "2025-04-25T12:59:33.673593Z",
     "iopub.status.busy": "2025-04-25T12:59:33.673263Z",
     "iopub.status.idle": "2025-04-25T12:59:33.677048Z",
     "shell.execute_reply": "2025-04-25T12:59:33.676342Z",
     "shell.execute_reply.started": "2025-04-25T12:59:33.673564Z"
    }
   },
   "outputs": [],
   "source": [
    "# pip install --upgrade pandas xgboost"
   ]
  },
  {
   "cell_type": "code",
   "execution_count": 1,
   "id": "78a1ede0-a71a-4512-91d6-b9d11a54c643",
   "metadata": {
    "execution": {
     "iopub.execute_input": "2025-04-25T13:55:10.142148Z",
     "iopub.status.busy": "2025-04-25T13:55:10.141682Z",
     "iopub.status.idle": "2025-04-25T13:55:11.223007Z",
     "shell.execute_reply": "2025-04-25T13:55:11.222313Z",
     "shell.execute_reply.started": "2025-04-25T13:55:10.142121Z"
    }
   },
   "outputs": [],
   "source": [
    "import pandas as pd\n",
    "import numpy as np\n",
    "from sklearn.model_selection import train_test_split\n",
    "from sklearn.metrics import classification_report, confusion_matrix\n",
    "from sklearn.preprocessing import LabelEncoder\n",
    "import xgboost as xgb\n",
    "import matplotlib.pyplot as plt\n",
    "import seaborn as sns\n",
    "import requests\n",
    "import json\n",
    "\n",
    "\n"
   ]
  },
  {
   "cell_type": "markdown",
   "id": "dcdf8522-e330-4c13-9ae2-1b6d7bacee4f",
   "metadata": {},
   "source": [
    "# Input Paths"
   ]
  },
  {
   "cell_type": "code",
   "execution_count": 2,
   "id": "6ae2786b-a96a-4c2d-b9d5-2e6054367aa8",
   "metadata": {
    "execution": {
     "iopub.execute_input": "2025-04-25T13:55:11.224431Z",
     "iopub.status.busy": "2025-04-25T13:55:11.224054Z",
     "iopub.status.idle": "2025-04-25T13:55:11.227574Z",
     "shell.execute_reply": "2025-04-25T13:55:11.226950Z",
     "shell.execute_reply.started": "2025-04-25T13:55:11.224405Z"
    }
   },
   "outputs": [],
   "source": [
    "model_saved_path = \"/tf/users/anurag/kwikathon/kwikathon_model_v1.pkl\"\n",
    "label_encoders_saved_path = \"/tf/users/anurag/kwikathon/label_encoder.joblib\"\n",
    "target_encoders_saved_path = \"/tf/users/anurag/kwikathon/target_encoder.joblib\"\n",
    "# API endpoints (assuming both APIs are accessible at these URLs)\n",
    "realtime_api_url = 'https://realtime_api_url.com'  # Realtime Data API\n",
    "historical_api_url = 'https://historical_api_url.com'  # Historical + Profile API Data\n",
    "kwikintent_signal_api_url = \"https://kwikintent_signal_api_url.com\"  "
   ]
  },
  {
   "cell_type": "markdown",
   "id": "b1ec92c9-17d6-4ae1-b5a9-7893c4cb0e27",
   "metadata": {
    "jp-MarkdownHeadingCollapsed": true
   },
   "source": [
    "# Historical Data Read"
   ]
  },
  {
   "cell_type": "code",
   "execution_count": 3,
   "id": "9caab876-dfc0-46e2-93a5-43842781f709",
   "metadata": {
    "execution": {
     "iopub.execute_input": "2025-04-25T13:54:42.130385Z",
     "iopub.status.busy": "2025-04-25T13:54:42.129746Z",
     "iopub.status.idle": "2025-04-25T13:54:42.201196Z",
     "shell.execute_reply": "2025-04-25T13:54:42.200439Z",
     "shell.execute_reply.started": "2025-04-25T13:54:42.130358Z"
    }
   },
   "outputs": [],
   "source": [
    "# --------------------------\n",
    "# STEP 1: Generate synthetic dataset\n",
    "# --------------------------\n",
    "np.random.seed(42)\n",
    "n = 1000  # Number of sessions/users\n",
    "\n",
    "df = pd.DataFrame({\n",
    "    'num_of_clicks_on_size_option': np.random.poisson(1, n),\n",
    "    'num_of_clicks_on_reviews': np.random.poisson(1, n),\n",
    "    'num_of_clicks_on_images': np.random.poisson(2, n),\n",
    "    'num_of_clicks_on_offer_section': np.random.poisson(1, n),\n",
    "    'num_of_clicks_on_return_policy': np.random.binomial(1, 0.2, n),\n",
    "    'num_of_clicks_on_pincode_deliverability_check': np.random.binomial(1, 0.3, n),\n",
    "    'num_of_clicks_on_copied_share_product_link': np.random.binomial(1, 0.1, n),\n",
    "    'num_of_clicks_on_color_variants_selection': np.random.poisson(1, n),\n",
    "    'num_of_clicks_on_compare_option': np.random.binomial(1, 0.1, n),\n",
    "    'num_of_clicks_on_read_more_product_description': np.random.binomial(1, 0.15, n),\n",
    "    'has_hovered_on_atc': np.random.binomial(1, 0.4, n),\n",
    "    'has_hovered_on_buy_now': np.random.binomial(1, 0.3, n),\n",
    "    'perc_of_scroll_depth_explored': np.random.uniform(0.1, 1.0, n).round(2),\n",
    "    'has_zoomed_in_on_product_images': np.random.binomial(1, 0.2, n),\n",
    "    'session_contains_internal_search': np.random.binomial(1, 0.5, n),\n",
    "    'num_of_products_viewed_in_session': np.random.randint(1, 15, n),\n",
    "    'entry_source': np.random.choice(['homepage', 'search', 'ad', 'social','facebook','instagram'], n),\n",
    "    'location': np.random.choice(['metro', 'tier1', 'tier2', 'tier3'], n),\n",
    "    'device_type': np.random.choice(['mobile', 'desktop', 'tablet'], n),\n",
    "    'gender': np.random.choice(['male', 'female', 'other'], n),\n",
    "    'age': np.random.randint(18, 60, n),\n",
    "    'num_of_rto_order_in_last_7_days': np.random.poisson(0.2, n),\n",
    "    'num_of_rto_order_in_last_15_days': np.random.poisson(0.4, n),\n",
    "    'high_discount_affinity_order_perc_processed': np.random.uniform(0, 1, n).round(2),\n",
    "    'has credit card': np.random.binomial(1, 0.5, n),\n",
    "    'uses bnpl': np.random.binomial(1, 0.3, n),\n",
    "    'preferred_mode_of_payment_processed': np.random.choice(['cod', 'upi', 'card', 'wallet'], n),\n",
    "    'preferred_order_time': np.random.choice(['morning', 'afternoon', 'evening', 'night'], n),\n",
    "    'social_source_order_perc_processed': np.random.uniform(0, 0.3, n).round(2),\n",
    "    'Time between entry and add to cart': np.random.uniform(5, 300, n).round(2),\n",
    "    'avg_time_between_pdp_page_landing_and_add_to_cart': np.random.uniform(5, 300, n).round(2),\n",
    "})"
   ]
  },
  {
   "cell_type": "markdown",
   "id": "7973e4a6-e483-407b-8816-1f1819bcbd6e",
   "metadata": {
    "jp-MarkdownHeadingCollapsed": true
   },
   "source": [
    "# Create Target Column (Multi-Class)"
   ]
  },
  {
   "cell_type": "code",
   "execution_count": 4,
   "id": "0fc18068-03a4-49c8-a3be-e12ff0e5cc6f",
   "metadata": {
    "execution": {
     "iopub.execute_input": "2025-04-25T13:54:42.202431Z",
     "iopub.status.busy": "2025-04-25T13:54:42.201999Z",
     "iopub.status.idle": "2025-04-25T13:54:42.207988Z",
     "shell.execute_reply": "2025-04-25T13:54:42.207272Z",
     "shell.execute_reply.started": "2025-04-25T13:54:42.202406Z"
    }
   },
   "outputs": [],
   "source": [
    "# --------------------------\n",
    "# STEP 2: Create Target Column (Multi-Class)\n",
    "# --------------------------\n",
    "conditions = [\n",
    "    (df['has_hovered_on_buy_now'] == 1) | (df['has_hovered_on_atc'] == 1),\n",
    "    (df['num_of_clicks_on_offer_section'] >= 2),\n",
    "]\n",
    "choices = ['High Intent', 'Discount Seeker']\n",
    "df['user_intent'] = np.select(conditions, choices, default='Just Browsing')\n",
    "\n"
   ]
  },
  {
   "cell_type": "markdown",
   "id": "0f85f05f-0122-4c29-b2a2-4d9f5bc77324",
   "metadata": {
    "jp-MarkdownHeadingCollapsed": true
   },
   "source": [
    "# Preprocessing"
   ]
  },
  {
   "cell_type": "code",
   "execution_count": 5,
   "id": "0c161c92-4314-4cf4-9a49-46e0dcd7417b",
   "metadata": {
    "execution": {
     "iopub.execute_input": "2025-04-25T13:54:42.208955Z",
     "iopub.status.busy": "2025-04-25T13:54:42.208733Z",
     "iopub.status.idle": "2025-04-25T13:54:42.213033Z",
     "shell.execute_reply": "2025-04-25T13:54:42.212320Z",
     "shell.execute_reply.started": "2025-04-25T13:54:42.208932Z"
    }
   },
   "outputs": [],
   "source": [
    "df.columns = df.columns.str.replace(' ', '_').str.lower()"
   ]
  },
  {
   "cell_type": "code",
   "execution_count": 6,
   "id": "a9f21a1a-bb72-46e8-a8f2-1ea6b4a33c22",
   "metadata": {
    "execution": {
     "iopub.execute_input": "2025-04-25T13:54:42.214236Z",
     "iopub.status.busy": "2025-04-25T13:54:42.213823Z",
     "iopub.status.idle": "2025-04-25T13:54:42.218284Z",
     "shell.execute_reply": "2025-04-25T13:54:42.217573Z",
     "shell.execute_reply.started": "2025-04-25T13:54:42.214213Z"
    }
   },
   "outputs": [],
   "source": [
    "# --------------------------\n",
    "# STEP 3: Preprocessing\n",
    "# --------------------------\n",
    "X = df.drop(columns=['user_intent'])\n",
    "y = df['user_intent']\n",
    "\n"
   ]
  },
  {
   "cell_type": "code",
   "execution_count": 7,
   "id": "45ad44d3-5724-4b6e-9a12-154e302ad597",
   "metadata": {
    "execution": {
     "iopub.execute_input": "2025-04-25T13:54:42.219707Z",
     "iopub.status.busy": "2025-04-25T13:54:42.219256Z",
     "iopub.status.idle": "2025-04-25T13:54:42.228181Z",
     "shell.execute_reply": "2025-04-25T13:54:42.227384Z",
     "shell.execute_reply.started": "2025-04-25T13:54:42.219682Z"
    },
    "scrolled": true
   },
   "outputs": [
    {
     "data": {
      "text/plain": [
       "num_of_clicks_on_size_option                           int64\n",
       "num_of_clicks_on_reviews                               int64\n",
       "num_of_clicks_on_images                                int64\n",
       "num_of_clicks_on_offer_section                         int64\n",
       "num_of_clicks_on_return_policy                         int64\n",
       "num_of_clicks_on_pincode_deliverability_check          int64\n",
       "num_of_clicks_on_copied_share_product_link             int64\n",
       "num_of_clicks_on_color_variants_selection              int64\n",
       "num_of_clicks_on_compare_option                        int64\n",
       "num_of_clicks_on_read_more_product_description         int64\n",
       "has_hovered_on_atc                                     int64\n",
       "has_hovered_on_buy_now                                 int64\n",
       "perc_of_scroll_depth_explored                        float64\n",
       "has_zoomed_in_on_product_images                        int64\n",
       "session_contains_internal_search                       int64\n",
       "num_of_products_viewed_in_session                      int64\n",
       "entry_source                                          object\n",
       "location                                              object\n",
       "device_type                                           object\n",
       "gender                                                object\n",
       "age                                                    int64\n",
       "num_of_rto_order_in_last_7_days                        int64\n",
       "num_of_rto_order_in_last_15_days                       int64\n",
       "high_discount_affinity_order_perc_processed          float64\n",
       "has_credit_card                                        int64\n",
       "uses_bnpl                                              int64\n",
       "preferred_mode_of_payment_processed                   object\n",
       "preferred_order_time                                  object\n",
       "social_source_order_perc_processed                   float64\n",
       "time_between_entry_and_add_to_cart                   float64\n",
       "avg_time_between_pdp_page_landing_and_add_to_cart    float64\n",
       "dtype: object"
      ]
     },
     "execution_count": 7,
     "metadata": {},
     "output_type": "execute_result"
    }
   ],
   "source": [
    "X.dtypes"
   ]
  },
  {
   "cell_type": "code",
   "execution_count": 8,
   "id": "6f660bac-70ce-407c-b31d-8e7bb75d531d",
   "metadata": {
    "execution": {
     "iopub.execute_input": "2025-04-25T13:54:42.229263Z",
     "iopub.status.busy": "2025-04-25T13:54:42.228915Z",
     "iopub.status.idle": "2025-04-25T13:54:42.233862Z",
     "shell.execute_reply": "2025-04-25T13:54:42.233077Z",
     "shell.execute_reply.started": "2025-04-25T13:54:42.229239Z"
    },
    "scrolled": true
   },
   "outputs": [
    {
     "data": {
      "text/plain": [
       "array([0, 1])"
      ]
     },
     "execution_count": 8,
     "metadata": {},
     "output_type": "execute_result"
    }
   ],
   "source": [
    "X['has_credit_card'].unique()"
   ]
  },
  {
   "cell_type": "markdown",
   "id": "13d1eeb2-6552-4d0a-bb5b-6ab651fb8a39",
   "metadata": {
    "jp-MarkdownHeadingCollapsed": true
   },
   "source": [
    "# Encode categorical features"
   ]
  },
  {
   "cell_type": "code",
   "execution_count": 9,
   "id": "d55662ad-a994-421d-a998-811bed9d2505",
   "metadata": {
    "execution": {
     "iopub.execute_input": "2025-04-25T13:54:42.235007Z",
     "iopub.status.busy": "2025-04-25T13:54:42.234616Z",
     "iopub.status.idle": "2025-04-25T13:54:42.241622Z",
     "shell.execute_reply": "2025-04-25T13:54:42.240896Z",
     "shell.execute_reply.started": "2025-04-25T13:54:42.234983Z"
    }
   },
   "outputs": [],
   "source": [
    "\n",
    "cat_cols = X.select_dtypes(include='object').columns.tolist()\n",
    "label_encoders = {}\n",
    "for col in cat_cols:\n",
    "    le = LabelEncoder()\n",
    "    X[col] = le.fit_transform(X[col])\n",
    "    label_encoders[col] = le\n"
   ]
  },
  {
   "cell_type": "markdown",
   "id": "a1bda9c9-5aa9-4f20-abfa-f6ab94736b06",
   "metadata": {
    "jp-MarkdownHeadingCollapsed": true
   },
   "source": [
    "# Encode target"
   ]
  },
  {
   "cell_type": "code",
   "execution_count": 10,
   "id": "c234553a-85c6-400c-adf3-85c04c64cf44",
   "metadata": {
    "execution": {
     "iopub.execute_input": "2025-04-25T13:54:42.242950Z",
     "iopub.status.busy": "2025-04-25T13:54:42.242560Z",
     "iopub.status.idle": "2025-04-25T13:54:42.246290Z",
     "shell.execute_reply": "2025-04-25T13:54:42.245565Z",
     "shell.execute_reply.started": "2025-04-25T13:54:42.242927Z"
    }
   },
   "outputs": [],
   "source": [
    "target_le = LabelEncoder()\n",
    "y_encoded = target_le.fit_transform(y)\n",
    "\n"
   ]
  },
  {
   "cell_type": "markdown",
   "id": "ec9e0090-01bc-4e9c-803b-4ae466a3dc56",
   "metadata": {
    "jp-MarkdownHeadingCollapsed": true
   },
   "source": [
    "# Train/Test Split"
   ]
  },
  {
   "cell_type": "code",
   "execution_count": 11,
   "id": "089fa02c-2366-43d5-b0e7-e0c6de84a32f",
   "metadata": {
    "execution": {
     "iopub.execute_input": "2025-04-25T13:54:42.247212Z",
     "iopub.status.busy": "2025-04-25T13:54:42.246997Z",
     "iopub.status.idle": "2025-04-25T13:54:42.253009Z",
     "shell.execute_reply": "2025-04-25T13:54:42.252303Z",
     "shell.execute_reply.started": "2025-04-25T13:54:42.247190Z"
    },
    "scrolled": true
   },
   "outputs": [],
   "source": [
    "X_train, X_test, y_train, y_test = train_test_split(X, y_encoded, test_size=0.2, stratify=y_encoded, random_state=42)\n",
    "\n"
   ]
  },
  {
   "cell_type": "markdown",
   "id": "0a8891cb-be91-40a5-a555-1febafb125f1",
   "metadata": {
    "jp-MarkdownHeadingCollapsed": true
   },
   "source": [
    "# Model Training"
   ]
  },
  {
   "cell_type": "code",
   "execution_count": 12,
   "id": "cd273256-3727-43bd-a4c5-f33330184f10",
   "metadata": {
    "execution": {
     "iopub.execute_input": "2025-04-25T13:54:42.811208Z",
     "iopub.status.busy": "2025-04-25T13:54:42.810772Z",
     "iopub.status.idle": "2025-04-25T13:54:44.312189Z",
     "shell.execute_reply": "2025-04-25T13:54:44.311281Z",
     "shell.execute_reply.started": "2025-04-25T13:54:42.811184Z"
    },
    "scrolled": true
   },
   "outputs": [
    {
     "data": {
      "text/html": [
       "<style>#sk-container-id-1 {color: black;background-color: white;}#sk-container-id-1 pre{padding: 0;}#sk-container-id-1 div.sk-toggleable {background-color: white;}#sk-container-id-1 label.sk-toggleable__label {cursor: pointer;display: block;width: 100%;margin-bottom: 0;padding: 0.3em;box-sizing: border-box;text-align: center;}#sk-container-id-1 label.sk-toggleable__label-arrow:before {content: \"▸\";float: left;margin-right: 0.25em;color: #696969;}#sk-container-id-1 label.sk-toggleable__label-arrow:hover:before {color: black;}#sk-container-id-1 div.sk-estimator:hover label.sk-toggleable__label-arrow:before {color: black;}#sk-container-id-1 div.sk-toggleable__content {max-height: 0;max-width: 0;overflow: hidden;text-align: left;background-color: #f0f8ff;}#sk-container-id-1 div.sk-toggleable__content pre {margin: 0.2em;color: black;border-radius: 0.25em;background-color: #f0f8ff;}#sk-container-id-1 input.sk-toggleable__control:checked~div.sk-toggleable__content {max-height: 200px;max-width: 100%;overflow: auto;}#sk-container-id-1 input.sk-toggleable__control:checked~label.sk-toggleable__label-arrow:before {content: \"▾\";}#sk-container-id-1 div.sk-estimator input.sk-toggleable__control:checked~label.sk-toggleable__label {background-color: #d4ebff;}#sk-container-id-1 div.sk-label input.sk-toggleable__control:checked~label.sk-toggleable__label {background-color: #d4ebff;}#sk-container-id-1 input.sk-hidden--visually {border: 0;clip: rect(1px 1px 1px 1px);clip: rect(1px, 1px, 1px, 1px);height: 1px;margin: -1px;overflow: hidden;padding: 0;position: absolute;width: 1px;}#sk-container-id-1 div.sk-estimator {font-family: monospace;background-color: #f0f8ff;border: 1px dotted black;border-radius: 0.25em;box-sizing: border-box;margin-bottom: 0.5em;}#sk-container-id-1 div.sk-estimator:hover {background-color: #d4ebff;}#sk-container-id-1 div.sk-parallel-item::after {content: \"\";width: 100%;border-bottom: 1px solid gray;flex-grow: 1;}#sk-container-id-1 div.sk-label:hover label.sk-toggleable__label {background-color: #d4ebff;}#sk-container-id-1 div.sk-serial::before {content: \"\";position: absolute;border-left: 1px solid gray;box-sizing: border-box;top: 0;bottom: 0;left: 50%;z-index: 0;}#sk-container-id-1 div.sk-serial {display: flex;flex-direction: column;align-items: center;background-color: white;padding-right: 0.2em;padding-left: 0.2em;position: relative;}#sk-container-id-1 div.sk-item {position: relative;z-index: 1;}#sk-container-id-1 div.sk-parallel {display: flex;align-items: stretch;justify-content: center;background-color: white;position: relative;}#sk-container-id-1 div.sk-item::before, #sk-container-id-1 div.sk-parallel-item::before {content: \"\";position: absolute;border-left: 1px solid gray;box-sizing: border-box;top: 0;bottom: 0;left: 50%;z-index: -1;}#sk-container-id-1 div.sk-parallel-item {display: flex;flex-direction: column;z-index: 1;position: relative;background-color: white;}#sk-container-id-1 div.sk-parallel-item:first-child::after {align-self: flex-end;width: 50%;}#sk-container-id-1 div.sk-parallel-item:last-child::after {align-self: flex-start;width: 50%;}#sk-container-id-1 div.sk-parallel-item:only-child::after {width: 0;}#sk-container-id-1 div.sk-dashed-wrapped {border: 1px dashed gray;margin: 0 0.4em 0.5em 0.4em;box-sizing: border-box;padding-bottom: 0.4em;background-color: white;}#sk-container-id-1 div.sk-label label {font-family: monospace;font-weight: bold;display: inline-block;line-height: 1.2em;}#sk-container-id-1 div.sk-label-container {text-align: center;}#sk-container-id-1 div.sk-container {/* jupyter's `normalize.less` sets `[hidden] { display: none; }` but bootstrap.min.css set `[hidden] { display: none !important; }` so we also need the `!important` here to be able to override the default hidden behavior on the sphinx rendered scikit-learn.org. See: https://github.com/scikit-learn/scikit-learn/issues/21755 */display: inline-block !important;position: relative;}#sk-container-id-1 div.sk-text-repr-fallback {display: none;}</style><div id=\"sk-container-id-1\" class=\"sk-top-container\"><div class=\"sk-text-repr-fallback\"><pre>XGBClassifier(base_score=None, booster=None, callbacks=None,\n",
       "              colsample_bylevel=None, colsample_bynode=None,\n",
       "              colsample_bytree=None, device=None, early_stopping_rounds=None,\n",
       "              enable_categorical=False, eval_metric=&#x27;mlogloss&#x27;,\n",
       "              feature_types=None, gamma=None, grow_policy=None,\n",
       "              importance_type=None, interaction_constraints=None,\n",
       "              learning_rate=0.1, max_bin=None, max_cat_threshold=None,\n",
       "              max_cat_to_onehot=None, max_delta_step=None, max_depth=6,\n",
       "              max_leaves=None, min_child_weight=None, missing=nan,\n",
       "              monotone_constraints=None, multi_strategy=None, n_estimators=200,\n",
       "              n_jobs=None, num_class=3, num_parallel_tree=None, ...)</pre><b>In a Jupyter environment, please rerun this cell to show the HTML representation or trust the notebook. <br />On GitHub, the HTML representation is unable to render, please try loading this page with nbviewer.org.</b></div><div class=\"sk-container\" hidden><div class=\"sk-item\"><div class=\"sk-estimator sk-toggleable\"><input class=\"sk-toggleable__control sk-hidden--visually\" id=\"sk-estimator-id-1\" type=\"checkbox\" checked><label for=\"sk-estimator-id-1\" class=\"sk-toggleable__label sk-toggleable__label-arrow\">XGBClassifier</label><div class=\"sk-toggleable__content\"><pre>XGBClassifier(base_score=None, booster=None, callbacks=None,\n",
       "              colsample_bylevel=None, colsample_bynode=None,\n",
       "              colsample_bytree=None, device=None, early_stopping_rounds=None,\n",
       "              enable_categorical=False, eval_metric=&#x27;mlogloss&#x27;,\n",
       "              feature_types=None, gamma=None, grow_policy=None,\n",
       "              importance_type=None, interaction_constraints=None,\n",
       "              learning_rate=0.1, max_bin=None, max_cat_threshold=None,\n",
       "              max_cat_to_onehot=None, max_delta_step=None, max_depth=6,\n",
       "              max_leaves=None, min_child_weight=None, missing=nan,\n",
       "              monotone_constraints=None, multi_strategy=None, n_estimators=200,\n",
       "              n_jobs=None, num_class=3, num_parallel_tree=None, ...)</pre></div></div></div></div></div>"
      ],
      "text/plain": [
       "XGBClassifier(base_score=None, booster=None, callbacks=None,\n",
       "              colsample_bylevel=None, colsample_bynode=None,\n",
       "              colsample_bytree=None, device=None, early_stopping_rounds=None,\n",
       "              enable_categorical=False, eval_metric='mlogloss',\n",
       "              feature_types=None, gamma=None, grow_policy=None,\n",
       "              importance_type=None, interaction_constraints=None,\n",
       "              learning_rate=0.1, max_bin=None, max_cat_threshold=None,\n",
       "              max_cat_to_onehot=None, max_delta_step=None, max_depth=6,\n",
       "              max_leaves=None, min_child_weight=None, missing=nan,\n",
       "              monotone_constraints=None, multi_strategy=None, n_estimators=200,\n",
       "              n_jobs=None, num_class=3, num_parallel_tree=None, ...)"
      ]
     },
     "execution_count": 12,
     "metadata": {},
     "output_type": "execute_result"
    }
   ],
   "source": [
    "model = xgb.XGBClassifier(\n",
    "    objective='multi:softprob',\n",
    "    num_class=3,\n",
    "    eval_metric='mlogloss',\n",
    "    use_label_encoder=False,\n",
    "    max_depth=6,\n",
    "    learning_rate=0.1,\n",
    "    n_estimators=200,\n",
    "    verbosity=0\n",
    ")\n",
    "\n",
    "model.fit(X_train, y_train)\n"
   ]
  },
  {
   "cell_type": "markdown",
   "id": "fc5aeb57-932d-48dd-9657-a3ae7af51c8e",
   "metadata": {
    "jp-MarkdownHeadingCollapsed": true
   },
   "source": [
    "# Evaluation"
   ]
  },
  {
   "cell_type": "code",
   "execution_count": 13,
   "id": "4513cb3d-ebcf-43d8-9e39-9cb289a2b491",
   "metadata": {
    "execution": {
     "iopub.execute_input": "2025-04-25T13:54:44.313834Z",
     "iopub.status.busy": "2025-04-25T13:54:44.313531Z",
     "iopub.status.idle": "2025-04-25T13:54:44.771903Z",
     "shell.execute_reply": "2025-04-25T13:54:44.771093Z",
     "shell.execute_reply.started": "2025-04-25T13:54:44.313807Z"
    },
    "scrolled": true
   },
   "outputs": [
    {
     "name": "stdout",
     "output_type": "stream",
     "text": [
      "Classification Report:\n",
      "                 precision    recall  f1-score   support\n",
      "\n",
      "Discount Seeker       1.00      1.00      1.00        20\n",
      "    High Intent       1.00      1.00      1.00       116\n",
      "  Just Browsing       1.00      1.00      1.00        64\n",
      "\n",
      "       accuracy                           1.00       200\n",
      "      macro avg       1.00      1.00      1.00       200\n",
      "   weighted avg       1.00      1.00      1.00       200\n",
      "\n"
     ]
    },
    {
     "data": {
      "image/png": "[encoded data removed]",
      "text/plain": [
       "<Figure size 600x400 with 2 Axes>"
      ]
     },
     "metadata": {},
     "output_type": "display_data"
    },
    {
     "data": {
      "image/png": "[encoded data removed]",
      "text/plain": [
       "<Figure size 640x480 with 1 Axes>"
      ]
     },
     "metadata": {},
     "output_type": "display_data"
    }
   ],
   "source": [
    "\n",
    "y_pred = model.predict(X_test)\n",
    "\n",
    "print(\"Classification Report:\")\n",
    "print(classification_report(y_test, y_pred, target_names=target_le.classes_))\n",
    "\n",
    "# Confusion matrix\n",
    "conf_mat = confusion_matrix(y_test, y_pred)\n",
    "plt.figure(figsize=(6,4))\n",
    "sns.heatmap(conf_mat, annot=True, fmt='d', xticklabels=target_le.classes_, yticklabels=target_le.classes_, cmap='Blues')\n",
    "plt.title(\"Confusion Matrix\")\n",
    "plt.xlabel(\"Predicted\")\n",
    "plt.ylabel(\"Actual\")\n",
    "plt.tight_layout()\n",
    "plt.show()\n",
    "\n",
    "# Feature importance\n",
    "xgb.plot_importance(model, max_num_features=10, importance_type='gain', title='Top 10 Important Features')\n",
    "plt.show()\n",
    "\n"
   ]
  },
  {
   "cell_type": "markdown",
   "id": "a448cd36-3c29-4c5d-8ca4-6172db21e021",
   "metadata": {
    "jp-MarkdownHeadingCollapsed": true
   },
   "source": [
    "# Save the Model & Encoders"
   ]
  },
  {
   "cell_type": "code",
   "execution_count": 14,
   "id": "9abc2a76-16a9-48c0-9b54-b07187407464",
   "metadata": {
    "execution": {
     "iopub.execute_input": "2025-04-25T13:54:44.773580Z",
     "iopub.status.busy": "2025-04-25T13:54:44.773104Z",
     "iopub.status.idle": "2025-04-25T13:54:44.818988Z",
     "shell.execute_reply": "2025-04-25T13:54:44.818041Z",
     "shell.execute_reply.started": "2025-04-25T13:54:44.773555Z"
    }
   },
   "outputs": [
    {
     "name": "stdout",
     "output_type": "stream",
     "text": [
      "Model Saved Path :  {'/tf/users/anurag/kwikathon/kwikathon_model_v1.pkl'}\n",
      "Label Encoder Saved Path :  {'/tf/users/anurag/kwikathon/label_encoder.joblib'}\n"
     ]
    }
   ],
   "source": [
    "import joblib\n",
    "\n",
    "joblib.dump(model, model_saved_path)\n",
    "joblib.dump(label_encoders, label_encoders_saved_path)\n",
    "joblib.dump(target_le, target_encoders_saved_path)\n",
    "\n",
    "print(\"Model Saved Path : \" , {model_saved_path})\n",
    "print(\"Label Encoder Saved Path : \" , {label_encoders_saved_path})"
   ]
  },
  {
   "cell_type": "markdown",
   "id": "697151fc-c19a-4c78-9cbe-f24f5d2caee6",
   "metadata": {},
   "source": [
    "# Inference on New Data"
   ]
  },
  {
   "cell_type": "code",
   "execution_count": 3,
   "id": "775ef678-9ba0-4dfb-a366-55d2f50db136",
   "metadata": {
    "execution": {
     "iopub.execute_input": "2025-04-25T13:55:15.353523Z",
     "iopub.status.busy": "2025-04-25T13:55:15.352953Z",
     "iopub.status.idle": "2025-04-25T13:55:15.491912Z",
     "shell.execute_reply": "2025-04-25T13:55:15.491169Z",
     "shell.execute_reply.started": "2025-04-25T13:55:15.353496Z"
    },
    "scrolled": true
   },
   "outputs": [],
   "source": [
    "# import requests\n",
    "# import json\n",
    "# import joblib\n",
    "\n",
    "\n",
    "# # Load the model trained & label encoder\n",
    "# model = joblib.load(model_saved_path)\n",
    "# label_encoders = joblib.load(label_encoders_saved_path)\n",
    "# target_le = joblib.load(target_encoders_saved_path)\n",
    "\n",
    "\n",
    "\n",
    "# # Function to get data from an API\n",
    "# def get_data_from_api(url):\n",
    "#     response = requests.get(url)\n",
    "#     if response.status_code == 200:\n",
    "#         return response.json()  # Return the JSON data if the request is successful\n",
    "#     else:\n",
    "#         raise Exception(f\"Failed to retrieve data from API: {response.status_code}\")\n",
    "\n",
    "# # Retrieve data from the two APIs\n",
    "# #api_data_1 = get_data_from_api(realtime_api_url)  # JSON Data from the first API\n",
    "# #api_data_2 = get_data_from_api(historical_api_url)  # JSON Data from the second API\n",
    "\n",
    "import pandas as pd\n",
    "import numpy as np\n",
    "from sklearn.model_selection import train_test_split\n",
    "from sklearn.metrics import classification_report, confusion_matrix\n",
    "from sklearn.preprocessing import LabelEncoder\n",
    "import xgboost as xgb\n",
    "import matplotlib.pyplot as plt\n",
    "import seaborn as sns\n",
    "import requests\n",
    "import json\n",
    "import requests\n",
    "import json\n",
    "import joblib\n",
    "\n",
    "\n",
    "model_saved_path = \"/tf/users/anurag/kwikathon/kwikathon_model_v1.pkl\"\n",
    "label_encoders_saved_path = \"/tf/users/anurag/kwikathon/label_encoder.joblib\"\n",
    "target_encoders_saved_path = \"/tf/users/anurag/kwikathon/target_encoder.joblib\"\n",
    "# API endpoints (assuming both APIs are accessible at these URLs)\n",
    "# realtime_api_url = 'https://realtime_api_url.com'  # Realtime Data API\n",
    "# historical_api_url = 'https://historical_api_url.com'  # Historical + Profile API Data\n",
    "# kwikintent_signal_api_url = \"https://kwikintent_signal_api_url.com\"  \n",
    "\n",
    "\n",
    "# Load the model trained & label encoder\n",
    "model = joblib.load(model_saved_path)\n",
    "label_encoders = joblib.load(label_encoders_saved_path)\n",
    "target_le = joblib.load(target_encoders_saved_path)\n",
    "\n",
    "\n",
    "# Function to get data from an API\n",
    "def get_data_from_api(url):\n",
    "    response = requests.get(url)\n",
    "    if response.status_code == 200:\n",
    "        return response.json()  # Return the JSON data if the request is successful\n",
    "    else:\n",
    "        raise Exception(f\"Failed to retrieve data from API: {response.status_code}\")\n",
    "\n",
    "\n",
    "def get_kwikintent_signal(data):\n",
    "    api_data_1 = data.api_data_1  # JSON Data from the first API\n",
    "    api_data_2 = data.api_data_2  # JSON Data from the second API\n",
    "    # Merge both datasets\n",
    "    merged_data = api_data_1.copy()  # Make a copy of api_data_1\n",
    "    merged_data.update(api_data_2)  # Update it with the values from api_data_2\n",
    "    new_user = pd.DataFrame([merged_data])\n",
    "    new_user = new_user.drop('time_spent_on_pdp',axis=1)\n",
    "    new_user.columns = new_user.columns.str.replace(' ', '_').str.lower()\n",
    "    feature_list = model.get_booster().feature_names\n",
    "    new_user_req = new_user[feature_list]\n",
    "    cat_cols = new_user_req.select_dtypes(include='object').columns.tolist()\n",
    "    \n",
    "    \n",
    "    # Encode the categorical columns using the same encoders\n",
    "    for col in cat_cols:\n",
    "        le = label_encoders[col]\n",
    "        new_user_req[col] = le.transform(new_user_req[col])\n",
    "    \n",
    "    # Predict intent\n",
    "    pred_class = model.predict(new_user_req)[0]\n",
    "    pred_label = target_le.inverse_transform([pred_class])[0]\n",
    "    \n",
    "    print(f\"🧠 Predicted User Intent: **{pred_label}**\")\n",
    "    payload = {'kiwkintent_signal': pred_label}\n",
    "    headers = {'Content-Type': 'application/json'}\n",
    "    \n",
    "    try:\n",
    "        response = requests.post(kwikintent_signal_output_url, data=json.dumps(payload), headers=headers)\n",
    "        response.raise_for_status()  # Raise an exception for bad status codes\n",
    "        print(f\"✅ Successfully posted: **{predicted_label}** to {api_url}\")\n",
    "        print(f\"Response from API: {response.text}\")\n",
    "    except requests.exceptions.RequestException as e:\n",
    "        print(f\"🚨 Error posting to API: {e}\")\n",
    "\n",
    "# creating dummy data which has to come from above api's\n",
    "# api_data_1 = {\n",
    "#   \"num_of_clicks_on_size_option\": 2,\n",
    "#   \"num_of_clicks_on_reviews\": 5,\n",
    "#   \"num_of_clicks_on_images\": 3,\n",
    "#   \"num_of_clicks_on_offer_section\": 1,\n",
    "#   \"num_of_clicks_on_return_policy\": 0,\n",
    "#   \"num_of_clicks_on_pincode_deliverability_check\": 1,\n",
    "#   \"num_of_clicks_on_copied_share_product_link\": 0,\n",
    "#   \"num_of_clicks_on_color_variants_selection\": 2,\n",
    "#   \"num_of_clicks_on_compare_option\": 1,\n",
    "#   \"num_of_clicks_on_read_more_product_description\": 1,\n",
    "#   \"has_hovered_on_atc\": 0,\n",
    "#   \"has_hovered_on_buy_now\": 1,\n",
    "#   \"perc_of_scroll_depth_explored\": 75.5,\n",
    "#   \"time_spent_on_pdp\": 42.8,\n",
    "#   \"has_zoomed_in_on_product_images\": 1,\n",
    "#   \"session_contains_internal_search\": 0,\n",
    "#   \"num_of_products_viewed_in_session\": 8,\n",
    "#   \"entry_source\": \"facebook\",\n",
    "#   \"device_type\": \"mobile\"\n",
    "# }\n",
    "\n",
    "# api_data_2 = {\n",
    "# 'location': 'tier1',\n",
    "# 'gender': 'male',\n",
    "# 'age': 28,\n",
    "# 'num_of_rto_order_in_last_7_days': 0,\n",
    "# 'num_of_rto_order_in_last_15_days': 1,\n",
    "# 'high_discount_affinity_order_perc_processed': 0.3,\n",
    "# 'has credit card': 1,\n",
    "# 'uses bnpl': 0,\n",
    "# 'preferred_mode_of_payment_processed': 'upi',\n",
    "# 'preferred_order_time': 'evening',\n",
    "# 'social_source_order_perc_processed': 0.12,\n",
    "# 'Time between entry and add to cart': 60.0,\n",
    "# 'avg_time_between_pdp_page_landing_and_add_to_cart': 65.0,\n",
    "# }"
   ]
  },
  {
   "cell_type": "code",
   "execution_count": 4,
   "id": "1b238fd2-e336-42b3-ad67-fc48725582e3",
   "metadata": {
    "execution": {
     "iopub.execute_input": "2025-04-25T13:55:16.227130Z",
     "iopub.status.busy": "2025-04-25T13:55:16.226803Z",
     "iopub.status.idle": "2025-04-25T13:55:16.233826Z",
     "shell.execute_reply": "2025-04-25T13:55:16.233193Z",
     "shell.execute_reply.started": "2025-04-25T13:55:16.227104Z"
    },
    "scrolled": true
   },
   "outputs": [],
   "source": [
    "# Merge both datasets\n",
    "merged_data = api_data_1.copy()  # Make a copy of api_data_1\n",
    "merged_data.update(api_data_2)  # Update it with the values from api_data_2\n",
    "new_user = pd.DataFrame([merged_data])\n",
    "new_user = new_user.drop('time_spent_on_pdp',axis=1)\n",
    "new_user.columns = new_user.columns.str.replace(' ', '_').str.lower()"
   ]
  },
  {
   "cell_type": "code",
   "execution_count": 5,
   "id": "517ef2a7-b4a6-4d01-a5ec-d748aa3e326e",
   "metadata": {
    "execution": {
     "iopub.execute_input": "2025-04-25T13:55:16.727704Z",
     "iopub.status.busy": "2025-04-25T13:55:16.727289Z",
     "iopub.status.idle": "2025-04-25T13:55:16.744578Z",
     "shell.execute_reply": "2025-04-25T13:55:16.743995Z",
     "shell.execute_reply.started": "2025-04-25T13:55:16.727680Z"
    }
   },
   "outputs": [
    {
     "data": {
      "text/html": [
       "<div>\n",
       "<style scoped>\n",
       "    .dataframe tbody tr th:only-of-type {\n",
       "        vertical-align: middle;\n",
       "    }\n",
       "\n",
       "    .dataframe tbody tr th {\n",
       "        vertical-align: top;\n",
       "    }\n",
       "\n",
       "    .dataframe thead th {\n",
       "        text-align: right;\n",
       "    }\n",
       "</style>\n",
       "<table border=\"1\" class=\"dataframe\">\n",
       "  <thead>\n",
       "    <tr style=\"text-align: right;\">\n",
       "      <th></th>\n",
       "      <th>num_of_clicks_on_size_option</th>\n",
       "      <th>num_of_clicks_on_reviews</th>\n",
       "      <th>num_of_clicks_on_images</th>\n",
       "      <th>num_of_clicks_on_offer_section</th>\n",
       "      <th>num_of_clicks_on_return_policy</th>\n",
       "      <th>num_of_clicks_on_pincode_deliverability_check</th>\n",
       "      <th>num_of_clicks_on_copied_share_product_link</th>\n",
       "      <th>num_of_clicks_on_color_variants_selection</th>\n",
       "      <th>num_of_clicks_on_compare_option</th>\n",
       "      <th>num_of_clicks_on_read_more_product_description</th>\n",
       "      <th>...</th>\n",
       "      <th>num_of_rto_order_in_last_7_days</th>\n",
       "      <th>num_of_rto_order_in_last_15_days</th>\n",
       "      <th>high_discount_affinity_order_perc_processed</th>\n",
       "      <th>has_credit_card</th>\n",
       "      <th>uses_bnpl</th>\n",
       "      <th>preferred_mode_of_payment_processed</th>\n",
       "      <th>preferred_order_time</th>\n",
       "      <th>social_source_order_perc_processed</th>\n",
       "      <th>time_between_entry_and_add_to_cart</th>\n",
       "      <th>avg_time_between_pdp_page_landing_and_add_to_cart</th>\n",
       "    </tr>\n",
       "  </thead>\n",
       "  <tbody>\n",
       "    <tr>\n",
       "      <th>0</th>\n",
       "      <td>2</td>\n",
       "      <td>5</td>\n",
       "      <td>3</td>\n",
       "      <td>1</td>\n",
       "      <td>0</td>\n",
       "      <td>1</td>\n",
       "      <td>0</td>\n",
       "      <td>2</td>\n",
       "      <td>1</td>\n",
       "      <td>1</td>\n",
       "      <td>...</td>\n",
       "      <td>0</td>\n",
       "      <td>1</td>\n",
       "      <td>0.3</td>\n",
       "      <td>1</td>\n",
       "      <td>0</td>\n",
       "      <td>upi</td>\n",
       "      <td>evening</td>\n",
       "      <td>0.12</td>\n",
       "      <td>60.0</td>\n",
       "      <td>65.0</td>\n",
       "    </tr>\n",
       "  </tbody>\n",
       "</table>\n",
       "<p>1 rows × 31 columns</p>\n",
       "</div>"
      ],
      "text/plain": [
       "   num_of_clicks_on_size_option  num_of_clicks_on_reviews  \\\n",
       "0                             2                         5   \n",
       "\n",
       "   num_of_clicks_on_images  num_of_clicks_on_offer_section  \\\n",
       "0                        3                               1   \n",
       "\n",
       "   num_of_clicks_on_return_policy  \\\n",
       "0                               0   \n",
       "\n",
       "   num_of_clicks_on_pincode_deliverability_check  \\\n",
       "0                                              1   \n",
       "\n",
       "   num_of_clicks_on_copied_share_product_link  \\\n",
       "0                                           0   \n",
       "\n",
       "   num_of_clicks_on_color_variants_selection  num_of_clicks_on_compare_option  \\\n",
       "0                                          2                                1   \n",
       "\n",
       "   num_of_clicks_on_read_more_product_description  ...  \\\n",
       "0                                               1  ...   \n",
       "\n",
       "   num_of_rto_order_in_last_7_days  num_of_rto_order_in_last_15_days  \\\n",
       "0                                0                                 1   \n",
       "\n",
       "   high_discount_affinity_order_perc_processed  has_credit_card  uses_bnpl  \\\n",
       "0                                          0.3                1          0   \n",
       "\n",
       "   preferred_mode_of_payment_processed preferred_order_time  \\\n",
       "0                                  upi              evening   \n",
       "\n",
       "  social_source_order_perc_processed time_between_entry_and_add_to_cart  \\\n",
       "0                               0.12                               60.0   \n",
       "\n",
       "  avg_time_between_pdp_page_landing_and_add_to_cart  \n",
       "0                                              65.0  \n",
       "\n",
       "[1 rows x 31 columns]"
      ]
     },
     "execution_count": 5,
     "metadata": {},
     "output_type": "execute_result"
    }
   ],
   "source": [
    "new_user"
   ]
  },
  {
   "cell_type": "code",
   "execution_count": 6,
   "id": "bfd41566-a4b6-454e-b789-359e4127943f",
   "metadata": {
    "execution": {
     "iopub.execute_input": "2025-04-25T13:55:25.316107Z",
     "iopub.status.busy": "2025-04-25T13:55:25.315698Z",
     "iopub.status.idle": "2025-04-25T13:55:25.320465Z",
     "shell.execute_reply": "2025-04-25T13:55:25.319877Z",
     "shell.execute_reply.started": "2025-04-25T13:55:25.316081Z"
    }
   },
   "outputs": [
    {
     "data": {
      "text/plain": [
       "31"
      ]
     },
     "execution_count": 6,
     "metadata": {},
     "output_type": "execute_result"
    }
   ],
   "source": [
    "len(model.get_booster().feature_names)"
   ]
  },
  {
   "cell_type": "code",
   "execution_count": 7,
   "id": "8bb6be42-b542-442f-be39-fd42c62a03cc",
   "metadata": {
    "execution": {
     "iopub.execute_input": "2025-04-25T13:55:26.036140Z",
     "iopub.status.busy": "2025-04-25T13:55:26.035722Z",
     "iopub.status.idle": "2025-04-25T13:55:26.039848Z",
     "shell.execute_reply": "2025-04-25T13:55:26.039271Z",
     "shell.execute_reply.started": "2025-04-25T13:55:26.036117Z"
    }
   },
   "outputs": [],
   "source": [
    "feature_list = model.get_booster().feature_names\n",
    "new_user_req = new_user[feature_list]"
   ]
  },
  {
   "cell_type": "code",
   "execution_count": 8,
   "id": "5b0c2798-4f33-46b1-b945-0676efc7979d",
   "metadata": {
    "execution": {
     "iopub.execute_input": "2025-04-25T13:55:33.336276Z",
     "iopub.status.busy": "2025-04-25T13:55:33.335740Z",
     "iopub.status.idle": "2025-04-25T13:55:33.378244Z",
     "shell.execute_reply": "2025-04-25T13:55:33.376885Z",
     "shell.execute_reply.started": "2025-04-25T13:55:33.336251Z"
    },
    "scrolled": true
   },
   "outputs": [
    {
     "name": "stdout",
     "output_type": "stream",
     "text": [
      "🧠 Predicted User Intent: **High Intent**\n"
     ]
    }
   ],
   "source": [
    "cat_cols = new_user_req.select_dtypes(include='object').columns.tolist()\n",
    "\n",
    "\n",
    "# Encode the categorical columns using the same encoders\n",
    "for col in cat_cols:\n",
    "    le = label_encoders[col]\n",
    "    new_user_req[col] = le.transform(new_user_req[col])\n",
    "\n",
    "# Predict intent\n",
    "pred_class = model.predict(new_user_req)[0]\n",
    "pred_label = target_le.inverse_transform([pred_class])[0]\n",
    "\n",
    "print(f\"🧠 Predicted User Intent: **{pred_label}**\")\n",
    "\n"
   ]
  },
  {
   "cell_type": "markdown",
   "id": "e21354cb-392e-44d1-983f-2854ce85266c",
   "metadata": {},
   "source": [
    "# Share the Output to an Endpoint"
   ]
  },
  {
   "cell_type": "code",
   "execution_count": null,
   "id": "9ff9331b-5900-4adb-b08d-8dca7bf5d794",
   "metadata": {},
   "outputs": [],
   "source": [
    "payload = {'kiwkintent_signal': predicted_label}\n",
    "headers = {'Content-Type': 'application/json'}\n",
    "\n",
    "try:\n",
    "    response = requests.post(api_url, data=json.dumps(payload), headers=headers)\n",
    "    response.raise_for_status()  # Raise an exception for bad status codes\n",
    "    print(f\"✅ Successfully posted: **{predicted_label}** to {api_url}\")\n",
    "    print(f\"Response from API: {response.text}\")\n",
    "except requests.exceptions.RequestException as e:\n",
    "    print(f\"🚨 Error posting to API: {e}\")\n"
   ]
  },
  {
   "cell_type": "code",
   "execution_count": null,
   "id": "03f2f380-552e-44c8-9e05-124d4c637e90",
   "metadata": {},
   "outputs": [],
   "source": []
  },
  {
   "cell_type": "code",
   "execution_count": null,
   "id": "5052f25d-4ea2-4209-b4a1-9e9600f73e71",
   "metadata": {},
   "outputs": [],
   "source": []
  }
 ],
 "metadata": {
  "kernelspec": {
   "display_name": "Python 3 (ipykernel)",
   "language": "python",
   "name": "python3"
  },
  "language_info": {
   "codemirror_mode": {
    "name": "ipython",
    "version": 3
   },
   "file_extension": ".py",
   "mimetype": "text/x-python",
   "name": "python",
   "nbconvert_exporter": "python",
   "pygments_lexer": "ipython3",
   "version": "3.8.10"
  }
 },
 "nbformat": 4,
 "nbformat_minor": 5
}
